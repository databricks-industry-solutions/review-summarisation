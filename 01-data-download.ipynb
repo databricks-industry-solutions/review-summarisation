{
 "cells": [
  {
   "cell_type": "markdown",
   "metadata": {
    "application/vnd.databricks.v1+cell": {
     "cellMetadata": {},
     "inputWidgets": {},
     "nuid": "1524fe84-efbe-499b-9a26-db5bed6b0796",
     "showTitle": false,
     "title": ""
    }
   },
   "source": [
    "# Data Download\n",
    "We begin our project with doing the necessary data setup and downloading the dataset we need The online retail giant [Amazon's Product Reviews](https://s3.amazonaws.com/amazon-reviews-pds/readme.html) are publicly available via an easily downloadable route. Each row in the dataset equates a review written by a user, and also has other data points such as star ratings which we will get to explore later.. \n",
    "\n",
    "**Set Up**\n",
    "\n",
    "This notebook is run on 13.2 ML Runtime."
   ]
  },
  {
   "cell_type": "markdown",
   "metadata": {
    "application/vnd.databricks.v1+cell": {
     "cellMetadata": {},
     "inputWidgets": {},
     "nuid": "c17d91f4-4f7c-43a3-93dd-4ffe7db2f793",
     "showTitle": false,
     "title": ""
    }
   },
   "source": [
    "#### Initial Setup\n",
    "\n",
    "Setting up the necessary data holding objects such as Catalogs, Databases or Volumes are a great way to start projects on Databricks. These help us organise our assets with ease.\n",
    "\n",
    "Given this, we will use the next few cells of code to create a Catalog, a Database (Schema) within that catalog which will hold our tables, and also a Volume which will hold our files.\n",
    "\n",
    "_If Unity Catalog is not yet enabled on your workspace, please follow the instructions for alternatives. It is not required for this project_"
   ]
  },
  {
   "cell_type": "code",
   "execution_count": 0,
   "metadata": {
    "application/vnd.databricks.v1+cell": {
     "cellMetadata": {
      "byteLimit": 2048000,
      "implicitDf": true,
      "rowLimit": 10000
     },
     "inputWidgets": {},
     "nuid": "6922837c-875e-43b0-a34f-600f96e691b2",
     "showTitle": false,
     "title": ""
    }
   },
   "outputs": [],
   "source": [
    "%sql\n",
    "\n",
    "-- Creating a Catalog (Optional, skip if no-UC)\n",
    "CREATE CATALOG IF NOT EXISTS mas;\n",
    "\n",
    "-- Select the Catalog as Default for this Notebook\n",
    "-- If you would like to use your own Catalog, you can replace the name\n",
    "-- (Optional, skip if no-UC)\n",
    "USE CATALOG mas;\n",
    "\n",
    "-- Create a Database\n",
    "CREATE DATABASE IF NOT EXISTS review_summarisation;\n",
    "\n",
    "-- Select the Database as Default\n",
    "USE SCHEMA review_summarisation;\n",
    "\n",
    "-- Create a Volume (Optional, skip if no-UC)\n",
    "CREATE VOLUME IF NOT EXISTS data_store;"
   ]
  },
  {
   "cell_type": "markdown",
   "metadata": {
    "application/vnd.databricks.v1+cell": {
     "cellMetadata": {
      "byteLimit": 2048000,
      "rowLimit": 10000
     },
     "inputWidgets": {},
     "nuid": "15700134-fd9b-483b-9fbd-85f9aab3c00f",
     "showTitle": false,
     "title": ""
    }
   },
   "source": [
    "#### Setting Up Paths\n",
    "\n",
    "We will now set up our paths, which we will use for downloading and storing the data. This code will give you the option to select a `dbfs` path or any other path you might want to use for storing the raw files."
   ]
  },
  {
   "cell_type": "code",
   "execution_count": 0,
   "metadata": {
    "application/vnd.databricks.v1+cell": {
     "cellMetadata": {
      "byteLimit": 2048000,
      "rowLimit": 10000
     },
     "inputWidgets": {},
     "nuid": "66bd2ba1-0a0b-4a55-80d1-24b0a904fadc",
     "showTitle": false,
     "title": ""
    }
   },
   "outputs": [],
   "source": [
    "# Import the OS system to declare a env variable\n",
    "import os\n",
    "\n",
    "# Seting up the storage path (please edit this if you would like to store the data somewhere else)\n",
    "main_storage_path = \"/Volumes/mas/review_summarisation/data_store\"\n",
    "\n",
    "# Declaring as an Environment Variable \n",
    "os.environ[\"MAIN_STORAGE_PATH\"] = main_storage_path"
   ]
  },
  {
   "cell_type": "code",
   "execution_count": 0,
   "metadata": {
    "application/vnd.databricks.v1+cell": {
     "cellMetadata": {
      "byteLimit": 2048000,
      "rowLimit": 10000
     },
     "inputWidgets": {},
     "nuid": "c5fba014-4353-40ea-a0e1-7bd52f59b7ff",
     "showTitle": false,
     "title": ""
    }
   },
   "outputs": [],
   "source": [
    "%sh\n",
    "# Confirming the variable made it through\n",
    "echo $MAIN_STORAGE_PATH"
   ]
  },
  {
   "cell_type": "markdown",
   "metadata": {
    "application/vnd.databricks.v1+cell": {
     "cellMetadata": {},
     "inputWidgets": {},
     "nuid": "be7432bd-278a-43e7-8527-39930e69827e",
     "showTitle": false,
     "title": ""
    }
   },
   "source": [
    "#### Downloading the Data\n",
    "Now, we can download the data from the public registry.. There are many datasets which are available from Aamzon. They are grouped by category such as Books or Cameras. For this use case, we will focus on the books dataset as we might see reviews about the books we have read before.\n",
    "\n",
    "These datasets are in the form of compressed TSVs (Tab Seperated Values), which is the close cousing of CSVs (Comma Seperated Values). Our first task is going to be to download and unzip the data in the main locaiton we have predefined, and we are going to execute this within a shell script, using the wget utility for download."
   ]
  },
  {
   "cell_type": "code",
   "execution_count": 0,
   "metadata": {
    "application/vnd.databricks.v1+cell": {
     "cellMetadata": {
      "byteLimit": 2048000,
      "rowLimit": 10000
     },
     "inputWidgets": {},
     "nuid": "f511c1f8-f1b2-4342-a545-5f9cf1015408",
     "showTitle": false,
     "title": ""
    }
   },
   "outputs": [],
   "source": [
    "%sh\n",
    "# Move in to our main directory\n",
    "cd $MAIN_STORAGE_PATH\n",
    "# Create a new folder\n",
    "mkdir -p amazon_reviews\n",
    "# Move in to the folder\n",
    "cd amazon_reviews\n",
    "# Download the data\n",
    "wget https://s3.amazonaws.com/amazon-reviews-pds/tsv/amazon_reviews_us_Books_v1_00.tsv.gz\n",
    "# Unzip \n",
    "gunzip amazon_reviews_us_Books_v1_00.tsv.gz\n",
    "# Display whats there\n",
    "du -ah ."
   ]
  },
  {
   "cell_type": "code",
   "execution_count": 0,
   "metadata": {
    "application/vnd.databricks.v1+cell": {
     "cellMetadata": {},
     "inputWidgets": {},
     "nuid": "c365d48c-5495-400d-9a2a-bbff594796d4",
     "showTitle": false,
     "title": ""
    }
   },
   "outputs": [],
   "source": []
  }
 ],
 "metadata": {
  "application/vnd.databricks.v1+notebook": {
   "dashboards": [],
   "language": "python",
   "notebookMetadata": {
    "mostRecentlyExecutedCommandWithImplicitDF": {
     "commandId": 2677369100176272,
     "dataframes": [
      "_sqldf"
     ]
    },
    "pythonIndentUnit": 4
   },
   "notebookName": "01-data-download",
   "widgets": {}
  }
 },
 "nbformat": 4,
 "nbformat_minor": 0
}
